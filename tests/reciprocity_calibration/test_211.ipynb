{
 "cells": [
  {
   "cell_type": "code",
   "execution_count": 1,
   "metadata": {},
   "outputs": [],
   "source": [
    "import xarray as xr\n",
    "import numpy as np\n",
    "\n",
    "import matplotlib.pyplot as plt\n",
    "import xrft"
   ]
  },
  {
   "cell_type": "code",
   "execution_count": 2,
   "metadata": {},
   "outputs": [
    {
     "name": "stdout",
     "output_type": "stream",
     "text": [
      "10.00s recorded\n"
     ]
    }
   ],
   "source": [
    "dt = np.dtype([('re', np.int16), ('im', np.int16)])\n",
    "\n",
    "a = np.fromfile(f'out-00.dat', dtype=dt)\n",
    "\t\t\t\n",
    "\n",
    "b = np.zeros(len(a), dtype=np.complex64)\n",
    "b[:].real = a['re']/(2**15)\n",
    "b[:].imag = a['im']/(2**15)\n",
    "\n",
    "sample_rate = int(250e3)\n",
    "dt = 1/sample_rate\n",
    "\n",
    "print(f\"{len(b)/sample_rate:0.2f}s recorded\")\n",
    "\n",
    "\n",
    "\n",
    "bins = 1024*2\n",
    "\n",
    "# remove 1 sample at the beginning and end\n",
    "b = b[sample_rate:-sample_rate]\n",
    "\n",
    "N = len(b)//bins\n",
    "\n",
    "\n",
    "\n",
    "time = np.arange(N*bins)*dt\n",
    "b = b[-N*bins:]\n",
    "\n",
    "# b = np.split(b,N)\n",
    "# t = np.split(time, N)\n",
    "\n"
   ]
  },
  {
   "cell_type": "code",
   "execution_count": 3,
   "metadata": {},
   "outputs": [
    {
     "ename": "ValueError",
     "evalue": "unrecognized chunk manager dask - must be one of: []",
     "output_type": "error",
     "traceback": [
      "\u001b[1;31m---------------------------------------------------------------------------\u001b[0m",
      "\u001b[1;31mValueError\u001b[0m                                Traceback (most recent call last)",
      "\u001b[1;32mc:\\Users\\Calle\\OneDrive\\Documenten\\Github\\NI-B210-Sync\\tests\\reciprocity_calibration\\test_211.ipynb Cell 3\u001b[0m in \u001b[0;36m2\n\u001b[0;32m      <a href='vscode-notebook-cell:/c%3A/Users/Calle/OneDrive/Documenten/Github/NI-B210-Sync/tests/reciprocity_calibration/test_211.ipynb#W2sZmlsZQ%3D%3D?line=0'>1</a>\u001b[0m da \u001b[39m=\u001b[39m xr\u001b[39m.\u001b[39mDataArray(b, dims\u001b[39m=\u001b[39m[\u001b[39m\"\u001b[39m\u001b[39msamples\u001b[39m\u001b[39m\"\u001b[39m], coords\u001b[39m=\u001b[39m{\u001b[39m\"\u001b[39m\u001b[39mtime\u001b[39m\u001b[39m\"\u001b[39m:(\u001b[39m\"\u001b[39m\u001b[39msamples\u001b[39m\u001b[39m\"\u001b[39m,time)})\n\u001b[1;32m----> <a href='vscode-notebook-cell:/c%3A/Users/Calle/OneDrive/Documenten/Github/NI-B210-Sync/tests/reciprocity_calibration/test_211.ipynb#W2sZmlsZQ%3D%3D?line=1'>2</a>\u001b[0m da \u001b[39m=\u001b[39m da\u001b[39m.\u001b[39;49mchunk(bins)\n",
      "File \u001b[1;32mc:\\Users\\Calle\\radioconda\\lib\\site-packages\\xarray\\core\\dataarray.py:1337\u001b[0m, in \u001b[0;36mDataArray.chunk\u001b[1;34m(self, chunks, name_prefix, token, lock, inline_array, chunked_array_type, from_array_kwargs, **chunks_kwargs)\u001b[0m\n\u001b[0;32m   1334\u001b[0m \u001b[39melse\u001b[39;00m:\n\u001b[0;32m   1335\u001b[0m     chunks \u001b[39m=\u001b[39m either_dict_or_kwargs(chunks, chunks_kwargs, \u001b[39m\"\u001b[39m\u001b[39mchunk\u001b[39m\u001b[39m\"\u001b[39m)\n\u001b[1;32m-> 1337\u001b[0m ds \u001b[39m=\u001b[39m \u001b[39mself\u001b[39;49m\u001b[39m.\u001b[39;49m_to_temp_dataset()\u001b[39m.\u001b[39;49mchunk(\n\u001b[0;32m   1338\u001b[0m     chunks,\n\u001b[0;32m   1339\u001b[0m     name_prefix\u001b[39m=\u001b[39;49mname_prefix,\n\u001b[0;32m   1340\u001b[0m     token\u001b[39m=\u001b[39;49mtoken,\n\u001b[0;32m   1341\u001b[0m     lock\u001b[39m=\u001b[39;49mlock,\n\u001b[0;32m   1342\u001b[0m     inline_array\u001b[39m=\u001b[39;49minline_array,\n\u001b[0;32m   1343\u001b[0m     chunked_array_type\u001b[39m=\u001b[39;49mchunked_array_type,\n\u001b[0;32m   1344\u001b[0m     from_array_kwargs\u001b[39m=\u001b[39;49mfrom_array_kwargs,\n\u001b[0;32m   1345\u001b[0m )\n\u001b[0;32m   1346\u001b[0m \u001b[39mreturn\u001b[39;00m \u001b[39mself\u001b[39m\u001b[39m.\u001b[39m_from_temp_dataset(ds)\n",
      "File \u001b[1;32mc:\\Users\\Calle\\radioconda\\lib\\site-packages\\xarray\\core\\dataset.py:2317\u001b[0m, in \u001b[0;36mDataset.chunk\u001b[1;34m(self, chunks, name_prefix, token, lock, inline_array, chunked_array_type, from_array_kwargs, **chunks_kwargs)\u001b[0m\n\u001b[0;32m   2312\u001b[0m \u001b[39mif\u001b[39;00m bad_dims:\n\u001b[0;32m   2313\u001b[0m     \u001b[39mraise\u001b[39;00m \u001b[39mValueError\u001b[39;00m(\n\u001b[0;32m   2314\u001b[0m         \u001b[39mf\u001b[39m\u001b[39m\"\u001b[39m\u001b[39msome chunks keys are not dimensions on this object: \u001b[39m\u001b[39m{\u001b[39;00mbad_dims\u001b[39m}\u001b[39;00m\u001b[39m\"\u001b[39m\n\u001b[0;32m   2315\u001b[0m     )\n\u001b[1;32m-> 2317\u001b[0m chunkmanager \u001b[39m=\u001b[39m guess_chunkmanager(chunked_array_type)\n\u001b[0;32m   2318\u001b[0m \u001b[39mif\u001b[39;00m from_array_kwargs \u001b[39mis\u001b[39;00m \u001b[39mNone\u001b[39;00m:\n\u001b[0;32m   2319\u001b[0m     from_array_kwargs \u001b[39m=\u001b[39m {}\n",
      "File \u001b[1;32mc:\\Users\\Calle\\radioconda\\lib\\site-packages\\xarray\\core\\parallelcompat.py:87\u001b[0m, in \u001b[0;36mguess_chunkmanager\u001b[1;34m(manager)\u001b[0m\n\u001b[0;32m     85\u001b[0m \u001b[39mif\u001b[39;00m \u001b[39misinstance\u001b[39m(manager, \u001b[39mstr\u001b[39m):\n\u001b[0;32m     86\u001b[0m     \u001b[39mif\u001b[39;00m manager \u001b[39mnot\u001b[39;00m \u001b[39min\u001b[39;00m chunkmanagers:\n\u001b[1;32m---> 87\u001b[0m         \u001b[39mraise\u001b[39;00m \u001b[39mValueError\u001b[39;00m(\n\u001b[0;32m     88\u001b[0m             \u001b[39mf\u001b[39m\u001b[39m\"\u001b[39m\u001b[39munrecognized chunk manager \u001b[39m\u001b[39m{\u001b[39;00mmanager\u001b[39m}\u001b[39;00m\u001b[39m - must be one of: \u001b[39m\u001b[39m{\u001b[39;00m\u001b[39mlist\u001b[39m(chunkmanagers)\u001b[39m}\u001b[39;00m\u001b[39m\"\u001b[39m\n\u001b[0;32m     89\u001b[0m         )\n\u001b[0;32m     91\u001b[0m     \u001b[39mreturn\u001b[39;00m chunkmanagers[manager]\n\u001b[0;32m     92\u001b[0m \u001b[39melif\u001b[39;00m \u001b[39misinstance\u001b[39m(manager, ChunkManagerEntrypoint):\n\u001b[0;32m     93\u001b[0m     \u001b[39m# already a valid ChunkManager so just pass through\u001b[39;00m\n",
      "\u001b[1;31mValueError\u001b[0m: unrecognized chunk manager dask - must be one of: []"
     ]
    }
   ],
   "source": [
    "\n",
    "da = xr.DataArray(b, dims=[\"samples\"], coords={\"time\":(\"samples\",time)})\n",
    "da = da.chunk(bins)\n",
    "\n"
   ]
  },
  {
   "cell_type": "code",
   "execution_count": null,
   "metadata": {},
   "outputs": [],
   "source": [
    "\n",
    "da_fft = xrft.fft(da, dim='samples', shift=True, chunks_to_segments=True)\n",
    "\n",
    "da_fft\n"
   ]
  },
  {
   "cell_type": "code",
   "execution_count": null,
   "metadata": {},
   "outputs": [],
   "source": [
    "mag_fft = np.abs(da_fft)\n",
    "\n",
    "#20*np.log10(mag_fft).plot(x=\"freq_samples\", hue=\"samples_segment\", add_legend=False);\n"
   ]
  },
  {
   "cell_type": "code",
   "execution_count": null,
   "metadata": {},
   "outputs": [],
   "source": [
    "plt.imshow(20*np.log10(mag_fft), aspect='auto')\n",
    "plt.colorbar();\n",
    "\n",
    "\n",
    "bins = mag_fft.argmax(dim=\"freq_samples\").to_numpy()\n",
    "\n",
    "print(bins)"
   ]
  },
  {
   "cell_type": "code",
   "execution_count": null,
   "metadata": {},
   "outputs": [],
   "source": [
    "x= np.angle(da_fft, deg=True)\n",
    "plt.imshow(x, aspect='auto')\n",
    "plt.colorbar();"
   ]
  },
  {
   "cell_type": "code",
   "execution_count": null,
   "metadata": {},
   "outputs": [],
   "source": [
    "#get bin with heighest power\n",
    "\n",
    "assert np.all(np.isclose(bins, bins[0]))\n"
   ]
  },
  {
   "cell_type": "code",
   "execution_count": null,
   "metadata": {},
   "outputs": [],
   "source": [
    "\n",
    "std = np.std(x[:,bins])\n",
    "avg = np.mean(x[:, bins])\n",
    "\n",
    "print(f\"std: {std:0.2f}°\")\n",
    "print(f\"mean: {avg:0.2f}°\")\n",
    "\n",
    "plt.ylim(avg-10*std, avg+10*std)\n",
    "plt.plot(x[:, bins]);\n"
   ]
  }
 ],
 "metadata": {
  "kernelspec": {
   "display_name": "Python 3",
   "language": "python",
   "name": "python3"
  },
  "language_info": {
   "codemirror_mode": {
    "name": "ipython",
    "version": 3
   },
   "file_extension": ".py",
   "mimetype": "text/x-python",
   "name": "python",
   "nbconvert_exporter": "python",
   "pygments_lexer": "ipython3",
   "version": "3.10.6"
  },
  "orig_nbformat": 4
 },
 "nbformat": 4,
 "nbformat_minor": 2
}
